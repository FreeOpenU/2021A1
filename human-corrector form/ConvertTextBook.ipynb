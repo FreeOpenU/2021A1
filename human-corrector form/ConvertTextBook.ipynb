{
 "cells": [
  {
   "cell_type": "code",
   "execution_count": 1,
   "metadata": {},
   "outputs": [],
   "source": [
    "import os\n",
    "import pdfplumber\n",
    "import re\n",
    "import glob\n",
    "from nltk.tokenize import sent_tokenize\n",
    "import pdfminer"
   ]
  },
  {
   "cell_type": "markdown",
   "metadata": {},
   "source": [
    "## - Functions"
   ]
  },
  {
   "cell_type": "code",
   "execution_count": 27,
   "metadata": {},
   "outputs": [],
   "source": [
    "# Get all the subfolders from a folder\n",
    "def fast_scandir(dirname):\n",
    "    subfolders= [f.path for f in os.scandir(dirname) if f.is_dir() and \".git\" not in f.path]\n",
    "    for dirname in list(subfolders):\n",
    "        subfolders.extend(fast_scandir(dirname))\n",
    "    return subfolders\n",
    "\n",
    "# Get all the pdf files from a folder path\n",
    "def get_pdf_files(folderPath):\n",
    "    return glob.glob(os.path.join(folderPath, \"*.pdf\"))\n",
    "\n",
    "# Import the text from pdf file\n",
    "def load_pdf_text(filePath):\n",
    "    all_text = \"\"\n",
    "    pdf = pdfplumber.open(filePath)\n",
    "    for i in range(len(pdf.pages)):\n",
    "        page = pdf.pages[i]\n",
    "        all_text += re.sub(\"\\s+\", \" \", str(page.extract_text()))\n",
    "    pdf.close()\n",
    "    # Split the lines based on a period, question mark, or something else (tokenize sentences)\n",
    "    return sent_tokenize(all_text)\n",
    "\n",
    "# Save the text to txt file\n",
    "def save_to_txt(filePath):\n",
    "    text = load_pdf_text(filePath)\n",
    "    txtFile = filePath[:-3] + \"txt\"\n",
    "    with open(txtFile, mode='wt', encoding='utf-8') as myfile:\n",
    "        for line in text:\n",
    "            myfile.write(line)\n",
    "            myfile.write('\\n')\n",
    "\n",
    "# Convert PDF to txt\n",
    "def convert_pdf_to_txt(folderPath):\n",
    "    file_list = get_pdf_files(folderPath)\n",
    "    for file in file_list:\n",
    "        save_to_txt(file)\n",
    "        \n",
    "# This function is to fix the \"PDF\" files problem\n",
    "def find_files_end_with_PDF(folderPath):\n",
    "    ans = []\n",
    "    for file in get_pdf_files(folder):\n",
    "        if \"pdf\" != file[-3:len(file)]:\n",
    "            ans.append(file)\n",
    "    return ans"
   ]
  },
  {
   "cell_type": "markdown",
   "metadata": {},
   "source": [
    "## - Get the folder's path"
   ]
  },
  {
   "cell_type": "code",
   "execution_count": 3,
   "metadata": {},
   "outputs": [],
   "source": [
    "folders = fast_scandir(\"./tbooks/\")"
   ]
  },
  {
   "cell_type": "code",
   "execution_count": 4,
   "metadata": {},
   "outputs": [
    {
     "data": {
      "text/plain": [
       "['./tbooks/med',\n",
       " './tbooks/nou100',\n",
       " './tbooks/nou101',\n",
       " './tbooks/nou200',\n",
       " './tbooks/nou300',\n",
       " './tbooks/nou400',\n",
       " './tbooks/nou700',\n",
       " './tbooks/nou800',\n",
       " './tbooks/nouALLED1',\n",
       " './tbooks/nouALLED2',\n",
       " './tbooks/nouBusLower1',\n",
       " './tbooks/nouBusLower2',\n",
       " './tbooks/nouBusUpper1',\n",
       " './tbooks/nouBusUpper2',\n",
       " './tbooks/nouBusUpper3',\n",
       " './tbooks/noudl01',\n",
       " './tbooks/noudl02',\n",
       " './tbooks/noudl03',\n",
       " './tbooks/nouLaw',\n",
       " './tbooks/nouSST100',\n",
       " './tbooks/nouSST200',\n",
       " './tbooks/nouSST300',\n",
       " './tbooks/nouSST301',\n",
       " './tbooks/nouSST400',\n",
       " './tbooks/nouSST401',\n",
       " './tbooks/nouSST500',\n",
       " './tbooks/nouSST700',\n",
       " './tbooks/nouSST800',\n",
       " './tbooks/pdfssailor']"
      ]
     },
     "execution_count": 4,
     "metadata": {},
     "output_type": "execute_result"
    }
   ],
   "source": [
    "folders"
   ]
  },
  {
   "cell_type": "code",
   "execution_count": 6,
   "metadata": {},
   "outputs": [
    {
     "data": {
      "text/plain": [
       "['./tbooks/nouSST401', './tbooks/nouSST500']"
      ]
     },
     "execution_count": 6,
     "metadata": {},
     "output_type": "execute_result"
    }
   ],
   "source": [
    "folders[24:26]"
   ]
  },
  {
   "cell_type": "markdown",
   "metadata": {},
   "source": [
    "## - Iterate through all the folders in tbooks"
   ]
  },
  {
   "cell_type": "code",
   "execution_count": 28,
   "metadata": {},
   "outputs": [
    {
     "name": "stdout",
     "output_type": "stream",
     "text": [
      "Sucess:  ./tbooks/nouSST500\n",
      "Sucess:  ./tbooks/nouSST700\n",
      "Sucess:  ./tbooks/nouSST800\n",
      "Sucess:  ./tbooks/pdfssailor\n"
     ]
    }
   ],
   "source": [
    "for i in range(25, len(folders)):\n",
    "    convert_pdf_to_txt(folders[i])\n",
    "    print(\"Sucess: \", folders[i])"
   ]
  },
  {
   "cell_type": "code",
   "execution_count": null,
   "metadata": {},
   "outputs": [],
   "source": []
  },
  {
   "cell_type": "markdown",
   "metadata": {},
   "source": [
    "## - Skip Damaged File: CIT 467 VISUAL PROGRAMMING LANGUAGE 2 in nouSST401"
   ]
  },
  {
   "cell_type": "code",
   "execution_count": 24,
   "metadata": {},
   "outputs": [
    {
     "name": "stdout",
     "output_type": "stream",
     "text": [
      "Sucess: ./tbooks/nouSST401\\CIT 465.pdf\n",
      "Sucess: ./tbooks/nouSST401\\CIT 478 Artificial Intelligence(1).pdf\n",
      "Sucess: ./tbooks/nouSST401\\CIT 478 Artificial Intelligence.pdf\n",
      "Sucess: ./tbooks/nouSST401\\CIT 484 - WEBSITE DESIGN   - Content F.pdf\n",
      "Sucess: ./tbooks/nouSST401\\cps401 BIOTECHNOLOGY IN CROP_Olaniyi and Petu-Ibikunle_on net.pdf\n",
      "Sucess: ./tbooks/nouSST401\\DAM 401 Oracle Applications.pdf\n",
      "Sucess: ./tbooks/nouSST401\\DAM 461.pdf\n",
      "Sucess: ./tbooks/nouSST401\\DAM 462.pdf\n",
      "Sucess: ./tbooks/nouSST401\\DAM 463_Health Data Management.pdf\n",
      "Sucess: ./tbooks/nouSST401\\ENT 417.pdf\n",
      "Sucess: ./tbooks/nouSST401\\ESM 403 ENVT PERCEPTION UNEDITED.pdf\n",
      "Sucess: ./tbooks/nouSST401\\ESM 405 EPA.pdf\n",
      "Sucess: ./tbooks/nouSST401\\ESM 407 GIS.pdf\n",
      "Sucess: ./tbooks/nouSST401\\ESM 411 Population, Environment & Development.pdf\n",
      "Sucess: ./tbooks/nouSST401\\ESM 421 ELEMENTS OF LAND SURVEYING unedited.pdf\n",
      "Sucess: ./tbooks/nouSST401\\ESM 423 HYDROLOGY & WATER RESOURCES DEV.pdf\n",
      "Sucess: ./tbooks/nouSST401\\esm 424 Freshwater ecology.pdf\n",
      "Sucess: ./tbooks/nouSST401\\ESM 426 BIOGEOGRAPHY UNEDITED.pdf\n",
      "Sucess: ./tbooks/nouSST401\\ESM 431.pdf\n",
      "Sucess: ./tbooks/nouSST401\\esm 444  Industrial Waste and Industrial Water Treatment.pdf\n",
      "Sucess: ./tbooks/nouSST401\\ESM428.pdf\n",
      "Sucess: ./tbooks/nouSST401\\MTH 401.pdf\n",
      "Sucess: ./tbooks/nouSST401\\MTH 402.pdf\n",
      "Sucess: ./tbooks/nouSST401\\MTH 412.pdf\n",
      "Sucess: ./tbooks/nouSST401\\MTH 417.pdf\n",
      "Sucess: ./tbooks/nouSST401\\MTH 421(1).pdf\n",
      "Sucess: ./tbooks/nouSST401\\MTH 421.pdf\n",
      "Sucess: ./tbooks/nouSST401\\MTH 422.pdf\n",
      "Sucess: ./tbooks/nouSST401\\MTH 423.pdf\n",
      "Sucess: ./tbooks/nouSST401\\MTH411 Course Material.pdf\n",
      "Sucess: ./tbooks/nouSST401\\NSS 401.pdf\n",
      "Sucess: ./tbooks/nouSST401\\NSS 402.pdf\n",
      "Sucess: ./tbooks/nouSST401\\NSS 403 MEDICAL SURGICAL NURSING II.pdf\n",
      "Sucess: ./tbooks/nouSST401\\NSS 404 MEDICAL SURGICAL NURSING III.pdf\n",
      "Sucess: ./tbooks/nouSST401\\NSS 407 MAIN TEXT 2.pdf\n",
      "Sucess: ./tbooks/nouSST401\\NSS 410.pdf\n",
      "Sucess: ./tbooks/nouSST401\\NSS 411.pdf\n",
      "Sucess: ./tbooks/nouSST401\\NSS 412 Health Economics.pdf\n",
      "Sucess: ./tbooks/nouSST401\\NSS 413  PRACTICUM AND CLINICAL ATTACHMENT MANUAL.pdf\n",
      "Sucess: ./tbooks/nouSST401\\NSS_409-MAIN.pdf\n",
      "Sucess: ./tbooks/nouSST401\\PHY 403   Electrodynamics note reviewed[1].pdf\n",
      "Sucess: ./tbooks/nouSST401\\PHY 407 SOLID STATE PHYSICS II.pdf\n",
      "Sucess: ./tbooks/nouSST401\\PHY 409 Elementary Particle Physics for NOUN.pdf\n",
      "Sucess: ./tbooks/nouSST401\\PHY 410 Optics III.pdf\n",
      "Sucess: ./tbooks/nouSST401\\PHY 454 Astrophysics Coursework.pdf\n",
      "Sucess: ./tbooks/nouSST401\\PHY 455.pdf\n",
      "Sucess: ./tbooks/nouSST401\\PHY 457.pdf\n",
      "Sucess: ./tbooks/nouSST401\\PHY 461 GEOPHYSICS III.pdf\n",
      "Sucess: ./tbooks/nouSST401\\PHY402 NUCLEAR PHYSICS.pdf\n",
      "Sucess: ./tbooks/nouSST401\\PHY405 ELECTRONICS III.pdf\n"
     ]
    }
   ],
   "source": [
    "nouSST401 = get_pdf_files(folders[24])\n",
    "for i in range(len(nouSST401)):\n",
    "    if i == 1:\n",
    "        continue\n",
    "    curr_pdf = nouSST401[i]\n",
    "    save_to_txt(curr_pdf)\n",
    "    print(\"Sucess:\", curr_pdf)"
   ]
  },
  {
   "cell_type": "code",
   "execution_count": null,
   "metadata": {},
   "outputs": [],
   "source": []
  },
  {
   "cell_type": "markdown",
   "metadata": {},
   "source": [
    "## - Fix nouSST400/BIO 413 MAIN TEXT page 188 problem"
   ]
  },
  {
   "cell_type": "code",
   "execution_count": 49,
   "metadata": {},
   "outputs": [],
   "source": [
    "# Import the text from pdf file\n",
    "def special_load_pdf_text_188(filePath):\n",
    "    all_text = \"\"\n",
    "    pdf = pdfplumber.open(filePath)\n",
    "    for i in range(len(pdf.pages)):\n",
    "        if i == 188:\n",
    "            continue\n",
    "        page = pdf.pages[i]\n",
    "        all_text += re.sub(\"\\s+\", \" \", str(page.extract_text()))\n",
    "    pdf.close()\n",
    "    # Split the lines based on a period, question mark, or something else (tokenize sentences)\n",
    "    return sent_tokenize(all_text)"
   ]
  },
  {
   "cell_type": "code",
   "execution_count": 50,
   "metadata": {},
   "outputs": [
    {
     "name": "stdout",
     "output_type": "stream",
     "text": [
      "Sucess!\n"
     ]
    }
   ],
   "source": [
    "save_to_txt(special_load_pdf_text_188(get_pdf_files(folders[23])[17]), get_pdf_files(folders[23])[17])\n",
    "print(\"Sucess!\")"
   ]
  },
  {
   "cell_type": "code",
   "execution_count": 54,
   "metadata": {},
   "outputs": [],
   "source": [
    "# Remaining files in nouSST400\n",
    "pFiles = get_pdf_files(folders[23])[18:]\n",
    "for pFile in pFiles:\n",
    "    save_to_txt(load_pdf_text(pFile), pFile)"
   ]
  },
  {
   "cell_type": "code",
   "execution_count": null,
   "metadata": {},
   "outputs": [],
   "source": []
  },
  {
   "cell_type": "markdown",
   "metadata": {},
   "source": [
    "## - Fix the PDF files' problem"
   ]
  },
  {
   "cell_type": "code",
   "execution_count": 94,
   "metadata": {},
   "outputs": [
    {
     "name": "stdout",
     "output_type": "stream",
     "text": [
      "./tbooks/nouBusLower1:\n",
      "./tbooks/nouBusLower1\\BHM 302.PDF\n",
      "\n",
      "\n",
      "./tbooks/noudl03:\n",
      "./tbooks/noudl03\\PED 271 MAIN TEXT.PDF\n",
      "./tbooks/noudl03\\PED 322.PDF\n",
      "./tbooks/noudl03\\PED 412.PDF\n",
      "\n",
      "\n",
      "./tbooks/nouSST100:\n",
      "./tbooks/nouSST100\\CHM 121 Introduction to Physical Chemistry II.PDF\n",
      "./tbooks/nouSST100\\CHM 191 INTRODUCTORY PRACTICAL CHEMISTRY I.PDF\n",
      "\n",
      "\n"
     ]
    }
   ],
   "source": [
    "for i in range(10,len(folders)):\n",
    "    folder = folders[i]\n",
    "    file_list = find_files_end_with_PDF(folder)\n",
    "    if len(file_list) > 0:\n",
    "        print(folder + \":\")\n",
    "        for file in file_list:\n",
    "            print(file)\n",
    "        print(\"\\n\")"
   ]
  },
  {
   "cell_type": "code",
   "execution_count": 93,
   "metadata": {},
   "outputs": [
    {
     "name": "stdout",
     "output_type": "stream",
     "text": [
      "Do:  ./tbooks/nou200\n",
      "Success: ./tbooks/nou200\\PCR 272 Concepts and Practice of Peacebuilding.PDF\n",
      "\n",
      "\n",
      "Do:  ./tbooks/nouALLED1\n",
      "Success: ./tbooks/nouALLED1\\EDU 292 MAIN.PDF\n",
      "\n",
      "\n",
      "Do:  ./tbooks/nouALLED2\n",
      "Success: ./tbooks/nouALLED2\\PED 110.PDF\n",
      "Success: ./tbooks/nouALLED2\\PED 121.PDF\n",
      "Success: ./tbooks/nouALLED2\\PED 130 FINAL.PDF\n",
      "Success: ./tbooks/nouALLED2\\PED 230.PDF\n",
      "Success: ./tbooks/nouALLED2\\PED 232.PDF\n",
      "Success: ./tbooks/nouALLED2\\PED 237 MAIN.PDF\n",
      "Success: ./tbooks/nouALLED2\\PED 313 HISTORY AND CULTURA.PDF\n",
      "Success: ./tbooks/nouALLED2\\PED 320.PDF\n",
      "Success: ./tbooks/nouALLED2\\PED 410.PDF\n",
      "Success: ./tbooks/nouALLED2\\PED 420.PDF\n",
      "Success: ./tbooks/nouALLED2\\PED 421 DEVPTAL GUIDANCE....PDF\n",
      "Success: ./tbooks/nouALLED2\\PED 422.PDF\n",
      "Success: ./tbooks/nouALLED2\\PED 431 OSUJI  MAIN TEXT.PDF\n",
      "Success: ./tbooks/nouALLED2\\PRD 104 MAIN.PDF\n",
      "Success: ./tbooks/nouALLED2\\PRD 110 MAIN.PDF\n",
      "Success: ./tbooks/nouALLED2\\PRD 208 MAIN.PDF\n",
      "Success: ./tbooks/nouALLED2\\PRD 235 MAIN.PDF\n",
      "Success: ./tbooks/nouALLED2\\PRD 433.PDF\n",
      "\n",
      "\n"
     ]
    }
   ],
   "source": [
    "for i in range(2,10):\n",
    "    folder = folders[i]\n",
    "    file_list = find_files_end_with_PDF(folder)\n",
    "    if len(file_list) > 0:\n",
    "        print(\"Do: \", folder)\n",
    "        for file in file_list:\n",
    "            raw_text = load_pdf_text(file)\n",
    "            save_to_txt(raw_text, file)\n",
    "            print(\"Success:\", file)\n",
    "        print(\"\\n\")"
   ]
  },
  {
   "cell_type": "code",
   "execution_count": 83,
   "metadata": {},
   "outputs": [
    {
     "name": "stdout",
     "output_type": "stream",
     "text": [
      "['./tbooks/nou100\\\\BIO 001 Access Biology.PDF', './tbooks/nou100\\\\CHM 001 Access Chemistry.PDF']\n"
     ]
    }
   ],
   "source": [
    "    for file in file_list:\n",
    "        raw_text = load_pdf_text(file)\n",
    "        save_to_txt(raw_text, file)"
   ]
  }
 ],
 "metadata": {
  "kernelspec": {
   "display_name": "Python 3",
   "language": "python",
   "name": "python3"
  },
  "language_info": {
   "codemirror_mode": {
    "name": "ipython",
    "version": 3
   },
   "file_extension": ".py",
   "mimetype": "text/x-python",
   "name": "python",
   "nbconvert_exporter": "python",
   "pygments_lexer": "ipython3",
   "version": "3.8.3"
  }
 },
 "nbformat": 4,
 "nbformat_minor": 4
}
